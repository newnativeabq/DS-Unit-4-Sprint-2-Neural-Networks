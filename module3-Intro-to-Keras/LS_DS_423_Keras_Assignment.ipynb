{
 "cells": [
  {
   "cell_type": "markdown",
   "metadata": {
    "colab_type": "text",
    "id": "pBQsZEJmubLs"
   },
   "source": [
    "<img align=\"left\" src=\"https://lever-client-logos.s3.amazonaws.com/864372b1-534c-480e-acd5-9711f850815c-1524247202159.png\" width=200>\n",
    "<br></br>\n",
    "\n",
    "# Neural Network Framework (Keras)\n",
    "\n",
    "## *Data Science Unit 4 Sprint 2 Assignmnet 3*\n",
    "\n",
    "## Use the Keras Library to build a Multi-Layer Perceptron Model on the Boston Housing dataset\n",
    "\n",
    "- The Boston Housing dataset comes with the Keras library so use Keras to import it into your notebook. \n",
    "- Normalize the data (all features should have roughly the same scale)\n",
    "- Import the type of model and layers that you will need from Keras.\n",
    "- Instantiate a model object and use `model.add()` to add layers to your model\n",
    "- Since this is a regression model you will have a single output node in the final layer.\n",
    "- Use activation functions that are appropriate for this task\n",
    "- Compile your model\n",
    "- Fit your model and report its accuracy in terms of Mean Squared Error\n",
    "- Use the history object that is returned from model.fit to make graphs of the model's loss or train/validation accuracies by epoch. \n",
    "- Run this same data through a linear regression model. Which achieves higher accuracy?\n",
    "- Do a little bit of feature engineering and see how that affects your neural network model. (you will need to change your model to accept more inputs)\n",
    "- After feature engineering, which model sees a greater accuracy boost due to the new features?"
   ]
  },
  {
   "cell_type": "markdown",
   "metadata": {
    "colab": {},
    "colab_type": "code",
    "id": "8NLTAR87uYJ-"
   },
   "source": [
    "## Import Boston Housing Dataset"
   ]
  },
  {
   "cell_type": "code",
   "execution_count": 1,
   "metadata": {},
   "outputs": [],
   "source": [
    "from tensorflow import keras\n",
    "from tensorflow.keras.datasets import boston_housing\n",
    "import numpy as np\n",
    "\n",
    "(x_train, y_train), (x_test, y_test) = boston_housing.load_data()"
   ]
  },
  {
   "cell_type": "code",
   "execution_count": null,
   "metadata": {},
   "outputs": [],
   "source": []
  },
  {
   "cell_type": "code",
   "execution_count": 2,
   "metadata": {},
   "outputs": [],
   "source": [
    "# concatenate all data into one array for fit/transform, normalization\n",
    "\n",
    "set1 = np.append(x_train, y_train.reshape(-1,1), 1)\n",
    "set2 = np.append(x_test, y_test.reshape(-1,1), 1)\n",
    "\n",
    "data = np.append(set1, set2, 0)"
   ]
  },
  {
   "cell_type": "code",
   "execution_count": 3,
   "metadata": {},
   "outputs": [
    {
     "data": {
      "text/plain": [
       "array([15.2, 42.3, 50. , 21.1, 17.7, 18.5, 11.3, 15.6, 15.6, 14.4, 12.1,\n",
       "       17.9, 23.1, 19.9, 15.7,  8.8, 50. , 22.5, 24.1, 27.5, 10.9, 30.8,\n",
       "       32.9, 24. , 18.5, 13.3, 22.9, 34.7, 16.6, 17.5, 22.3, 16.1, 14.9,\n",
       "       23.1, 34.9, 25. , 13.9, 13.1, 20.4, 20. , 15.2, 24.7, 22.2, 16.7,\n",
       "       12.7, 15.6, 18.4, 21. , 30.1, 15.1, 18.7,  9.6, 31.5, 24.8, 19.1,\n",
       "       22. , 14.5, 11. , 32. , 29.4, 20.3, 24.4, 14.6, 19.5, 14.1, 14.3,\n",
       "       15.6, 10.5,  6.3, 19.3, 19.3, 13.4, 36.4, 17.8, 13.5, 16.5,  8.3,\n",
       "       14.3, 16. , 13.4, 28.6, 43.5, 20.2, 22. , 23. , 20.7, 12.5, 48.5,\n",
       "       14.6, 13.4, 23.7, 50. , 21.7, 39.8, 38.7, 22.2, 34.9, 22.5, 31.1,\n",
       "       28.7, 46. , 41.7, 21. , 26.6, 15. , 24.4, 13.3, 21.2, 11.7, 21.7,\n",
       "       19.4, 50. , 22.8, 19.7, 24.7, 36.2, 14.2, 18.9, 18.3, 20.6, 24.6,\n",
       "       18.2,  8.7, 44. , 10.4, 13.2, 21.2, 37. , 30.7, 22.9, 20. , 19.3,\n",
       "       31.7, 32. , 23.1, 18.8, 10.9, 50. , 19.6,  5. , 14.4, 19.8, 13.8,\n",
       "       19.6, 23.9, 24.5, 25. , 19.9, 17.2, 24.6, 13.5, 26.6, 21.4, 11.9,\n",
       "       22.6, 19.6,  8.5, 23.7, 23.1, 22.4, 20.5, 23.6, 18.4, 35.2, 23.1,\n",
       "       27.9, 20.6, 23.7, 28. , 13.6, 27.1, 23.6, 20.6, 18.2, 21.7, 17.1,\n",
       "        8.4, 25.3, 13.8, 22.2, 18.4, 20.7, 31.6, 30.5, 20.3,  8.8, 19.2,\n",
       "       19.4, 23.1, 23. , 14.8, 48.8, 22.6, 33.4, 21.1, 13.6, 32.2, 13.1,\n",
       "       23.4, 18.9, 23.9, 11.8, 23.3, 22.8, 19.6, 16.7, 13.4, 22.2, 20.4,\n",
       "       21.8, 26.4, 14.9, 24.1, 23.8, 12.3, 29.1, 21. , 19.5, 23.3, 23.8,\n",
       "       17.8, 11.5, 21.7, 19.9, 25. , 33.4, 28.5, 21.4, 24.3, 27.5, 33.1,\n",
       "       16.2, 23.3, 48.3, 22.9, 22.8, 13.1, 12.7, 22.6, 15. , 15.3, 10.5,\n",
       "       24. , 18.5, 21.7, 19.5, 33.2, 23.2,  5. , 19.1, 12.7, 22.3, 10.2,\n",
       "       13.9, 16.3, 17. , 20.1, 29.9, 17.2, 37.3, 45.4, 17.8, 23.2, 29. ,\n",
       "       22. , 18. , 17.4, 34.6, 20.1, 25. , 15.6, 24.8, 28.2, 21.2, 21.4,\n",
       "       23.8, 31. , 26.2, 17.4, 37.9, 17.5, 20. ,  8.3, 23.9,  8.4, 13.8,\n",
       "        7.2, 11.7, 17.1, 21.6, 50. , 16.1, 20.4, 20.6, 21.4, 20.6, 36.5,\n",
       "        8.5, 24.8, 10.8, 21.9, 17.3, 18.9, 36.2, 14.9, 18.2, 33.3, 21.8,\n",
       "       19.7, 31.6, 24.8, 19.4, 22.8,  7.5, 44.8, 16.8, 18.7, 50. , 50. ,\n",
       "       19.5, 20.1, 50. , 17.2, 20.8, 19.3, 41.3, 20.4, 20.5, 13.8, 16.5,\n",
       "       23.9, 20.6, 31.5, 23.3, 16.8, 14. , 33.8, 36.1, 12.8, 18.3, 18.7,\n",
       "       19.1, 29. , 30.1, 50. , 50. , 22. , 11.9, 37.6, 50. , 22.7, 20.8,\n",
       "       23.5, 27.9, 50. , 19.3, 23.9, 22.6, 15.2, 21.7, 19.2, 43.8, 20.3,\n",
       "       33.2, 19.9, 22.5, 32.7, 22. , 17.1, 19. , 15. , 16.1, 25.1, 23.7,\n",
       "       28.7, 37.2, 22.6, 16.4, 25. , 29.8, 22.1, 17.4, 18.1, 30.3, 17.5,\n",
       "       24.7, 12.6, 26.5, 28.7, 13.3, 10.4, 24.4, 23. , 20. , 17.8,  7. ,\n",
       "       11.8, 24.4, 13.8, 19.4, 25.2, 19.4, 19.4, 29.1,  7.2, 18.8, 19. ,\n",
       "       27. , 22.2, 24.5, 31.2, 22.9, 20.5, 23.2, 18.6, 14.5, 17.8, 50. ,\n",
       "       20.8, 24.3, 24.2, 19.8, 19.1, 22.7, 12. , 10.2, 20. , 18.5, 20.9,\n",
       "       23. , 27.5, 30.1,  9.5, 22. , 21.2, 14.1, 33.1, 23.4, 20.1,  7.4,\n",
       "       15.4, 23.8, 20.1, 24.5, 33. , 28.4, 14.1, 46.7, 32.5, 29.6, 28.4,\n",
       "       19.8, 20.2, 25. , 35.4, 20.3,  9.7, 14.5, 34.9, 26.6,  7.2, 50. ,\n",
       "       32.4, 21.6, 29.8, 13.1, 27.5, 21.2, 23.1, 21.9, 13. , 23.2,  8.1,\n",
       "        5.6, 21.7, 29.6, 19.6,  7. , 26.4, 18.9, 20.9, 28.1, 35.4, 10.2,\n",
       "       24.3, 43.1, 17.6, 15.4, 16.2, 27.1, 21.4, 21.5, 22.4, 25. , 16.6,\n",
       "       18.6, 22. , 42.8, 35.1, 21.5, 36. , 21.9, 24.1, 50. , 26.7, 25. ])"
      ]
     },
     "execution_count": 3,
     "metadata": {},
     "output_type": "execute_result"
    }
   ],
   "source": [
    "data[:,13]"
   ]
  },
  {
   "cell_type": "markdown",
   "metadata": {},
   "source": [
    "## Build normalization pipeline"
   ]
  },
  {
   "cell_type": "code",
   "execution_count": 4,
   "metadata": {},
   "outputs": [],
   "source": [
    "from sklearn.pipeline import Pipeline\n",
    "from sklearn.preprocessing import RobustScaler\n",
    "\n",
    "\n",
    "scaler = RobustScaler()\n",
    "\n",
    "norm_pipe = Pipeline([\n",
    "    ('scaler', scaler)\n",
    "])"
   ]
  },
  {
   "cell_type": "code",
   "execution_count": 5,
   "metadata": {},
   "outputs": [],
   "source": [
    "from sklearn.model_selection import train_test_split\n",
    "\n",
    "# Transform data and regenerate X_train, y_train ...\n",
    "data_transformed = norm_pipe.fit_transform(data)\n",
    "\n",
    "X = data_transformed[:,0:13]\n",
    "y = data_transformed[:,13:]\n",
    "\n",
    "X_train, X_test, y_train, y_test = train_test_split(\n",
    "    X, y, test_size=0.20, random_state=42)"
   ]
  },
  {
   "cell_type": "code",
   "execution_count": 6,
   "metadata": {},
   "outputs": [
    {
     "data": {
      "text/plain": [
       "(0.7356321839080457, -0.7523510971786832)"
      ]
     },
     "execution_count": 6,
     "metadata": {},
     "output_type": "execute_result"
    }
   ],
   "source": [
    "X[0][12], y[0][0]"
   ]
  },
  {
   "cell_type": "markdown",
   "metadata": {},
   "source": [
    "## Define Network"
   ]
  },
  {
   "cell_type": "code",
   "execution_count": 7,
   "metadata": {},
   "outputs": [
    {
     "data": {
      "text/plain": [
       "<tensorflow.python.keras.callbacks.History at 0x7f2dc0184048>"
      ]
     },
     "execution_count": 7,
     "metadata": {},
     "output_type": "execute_result"
    }
   ],
   "source": [
    "from tensorflow.keras.models import Sequential\n",
    "from tensorflow.keras.layers import Dense\n",
    "\n",
    "model = Sequential()\n",
    "model.add(Dense(13,input_dim=13, activation='sigmoid'))\n",
    "model.add(Dense(1))\n",
    "model.compile(loss='binary_crossentropy', optimizer='adam', metrics=['mse'])\n",
    "model.fit(X_train,y_train, epochs=1000, verbose=0)"
   ]
  },
  {
   "cell_type": "code",
   "execution_count": 8,
   "metadata": {},
   "outputs": [
    {
     "name": "stdout",
     "output_type": "stream",
     "text": [
      "Model: \"sequential\"\n",
      "_________________________________________________________________\n",
      "Layer (type)                 Output Shape              Param #   \n",
      "=================================================================\n",
      "dense (Dense)                (None, 13)                182       \n",
      "_________________________________________________________________\n",
      "dense_1 (Dense)              (None, 1)                 14        \n",
      "=================================================================\n",
      "Total params: 196\n",
      "Trainable params: 196\n",
      "Non-trainable params: 0\n",
      "_________________________________________________________________\n"
     ]
    }
   ],
   "source": [
    "model.summary()"
   ]
  },
  {
   "cell_type": "code",
   "execution_count": 9,
   "metadata": {},
   "outputs": [
    {
     "name": "stdout",
     "output_type": "stream",
     "text": [
      "102/1 [====================================================================================================================================================================================================================================================================================================================================================================================================================================================================================================================================================================================================================================================================================================================================================================================================================================================================================================================================================================================================================================================================================================================================================================================================================================================================================================================================================================================================================================================================================================================================================================================================================================================================================================================================================================================================================================================================================================================================================================================================================================================================================================================================================================================================================================================================================================================================================================================================================================================================================================================================================================================================================================================================================================================================================================================================================================================================================================================================================================================================================================================================================================================================================================================] - 0s 836us/sample - loss: -6.1016 - mse: 1.1062\n"
     ]
    },
    {
     "data": {
      "text/plain": [
       "[-5.304170898362702, 1.1062098]"
      ]
     },
     "execution_count": 9,
     "metadata": {},
     "output_type": "execute_result"
    }
   ],
   "source": [
    "model.evaluate(X_test, y_test)"
   ]
  },
  {
   "cell_type": "code",
   "execution_count": 10,
   "metadata": {},
   "outputs": [],
   "source": [
    "import matplotlib.pyplot as plt\n",
    "import seaborn as sns"
   ]
  },
  {
   "cell_type": "code",
   "execution_count": 11,
   "metadata": {},
   "outputs": [
    {
     "data": {
      "image/png": "[encoded data removed]",
      "text/plain": [
       "<Figure size 432x288 with 1 Axes>"
      ]
     },
     "metadata": {
      "needs_background": "light"
     },
     "output_type": "display_data"
    }
   ],
   "source": [
    "ax = sns.distplot(y_train)"
   ]
  },
  {
   "cell_type": "code",
   "execution_count": 12,
   "metadata": {},
   "outputs": [
    {
     "data": {
      "image/png": "[encoded data removed]",
      "text/plain": [
       "<Figure size 432x288 with 1 Axes>"
      ]
     },
     "metadata": {
      "needs_background": "light"
     },
     "output_type": "display_data"
    }
   ],
   "source": [
    "ax = sns.distplot(np.log(set1[:,13:]))"
   ]
  },
  {
   "cell_type": "code",
   "execution_count": 13,
   "metadata": {},
   "outputs": [
    {
     "data": {
      "text/plain": [
       "array([[-1.78056426],\n",
       "       [-1.55485893],\n",
       "       [ 1.29153605],\n",
       "       [ 0.18808777],\n",
       "       [ 0.78996865]])"
      ]
     },
     "execution_count": 13,
     "metadata": {},
     "output_type": "execute_result"
    }
   ],
   "source": [
    "y_train[0:5]"
   ]
  },
  {
   "cell_type": "code",
   "execution_count": 15,
   "metadata": {},
   "outputs": [
    {
     "data": {
      "text/html": [
       "<div>\n",
       "<style scoped>\n",
       "    .dataframe tbody tr th:only-of-type {\n",
       "        vertical-align: middle;\n",
       "    }\n",
       "\n",
       "    .dataframe tbody tr th {\n",
       "        vertical-align: top;\n",
       "    }\n",
       "\n",
       "    .dataframe thead th {\n",
       "        text-align: right;\n",
       "    }\n",
       "</style>\n",
       "<table border=\"1\" class=\"dataframe\">\n",
       "  <thead>\n",
       "    <tr style=\"text-align: right;\">\n",
       "      <th></th>\n",
       "      <th>y_test</th>\n",
       "      <th>y_pred</th>\n",
       "      <th>diff</th>\n",
       "    </tr>\n",
       "  </thead>\n",
       "  <tbody>\n",
       "    <tr>\n",
       "      <td>0</td>\n",
       "      <td>7.2</td>\n",
       "      <td>11.376874</td>\n",
       "      <td>-4.176874</td>\n",
       "    </tr>\n",
       "    <tr>\n",
       "      <td>1</td>\n",
       "      <td>18.8</td>\n",
       "      <td>19.438504</td>\n",
       "      <td>-0.638504</td>\n",
       "    </tr>\n",
       "    <tr>\n",
       "      <td>2</td>\n",
       "      <td>19.0</td>\n",
       "      <td>19.052431</td>\n",
       "      <td>-0.052431</td>\n",
       "    </tr>\n",
       "    <tr>\n",
       "      <td>3</td>\n",
       "      <td>27.0</td>\n",
       "      <td>29.611300</td>\n",
       "      <td>-2.611300</td>\n",
       "    </tr>\n",
       "    <tr>\n",
       "      <td>4</td>\n",
       "      <td>22.2</td>\n",
       "      <td>18.214059</td>\n",
       "      <td>3.985941</td>\n",
       "    </tr>\n",
       "  </tbody>\n",
       "</table>\n",
       "</div>"
      ],
      "text/plain": [
       "   y_test     y_pred      diff\n",
       "0     7.2  11.376874 -4.176874\n",
       "1    18.8  19.438504 -0.638504\n",
       "2    19.0  19.052431 -0.052431\n",
       "3    27.0  29.611300 -2.611300\n",
       "4    22.2  18.214059  3.985941"
      ]
     },
     "execution_count": 15,
     "metadata": {},
     "output_type": "execute_result"
    }
   ],
   "source": [
    "import pandas as pd\n",
    "\n",
    "# Get prediction back out\n",
    "\n",
    "prediction_set_transformed = model.predict(X_test)\n",
    "\n",
    "# invert transform to see real value differences\n",
    "prediction_set = np.append(X_test, prediction_set_transformed, 1)\n",
    "prediction = norm_pipe.inverse_transform(prediction_set)\n",
    "\n",
    "# combine targets to review\n",
    "y_test = set2[:, 13:]\n",
    "y_pred = prediction[:, 13:]\n",
    "\n",
    "df = pd.DataFrame(np.append(y_test, y_pred, 1))\n",
    "df.columns = ['y_test', 'y_pred']\n",
    "df['diff'] = df.y_test - df.y_pred\n",
    "df.head()"
   ]
  },
  {
   "cell_type": "markdown",
   "metadata": {},
   "source": [
    "**Results** are not fantastic.  I think I'm introducing unnecessary compute complexity in transforming the target with RobustScaler.  The transform -> inverse_transform introduce a lot of potential error and also reduces the extreme differences in price/feature_set seen in this set.  Might be good for constraining targets if targets thesmelves 'should' exist within a certain range."
   ]
  },
  {
   "cell_type": "markdown",
   "metadata": {
    "colab_type": "text",
    "id": "SfcFnOONyuNm"
   },
   "source": [
    "## Use the Keras Library to build an image recognition network using the Fashion-MNIST dataset (also comes with keras)\n",
    "\n",
    "- Load and preprocess the image data similar to how we preprocessed the MNIST data in class.\n",
    "- Make sure to one-hot encode your category labels\n",
    "- Make sure to have your final layer have as many nodes as the number of classes that you want to predict.\n",
    "- Try different hyperparameters. What is the highest accuracy that you are able to achieve.\n",
    "- Use the history object that is returned from model.fit to make graphs of the model's loss or train/validation accuracies by epoch. \n",
    "- Remember that neural networks fall prey to randomness so you may need to run your model multiple times (or use Cross Validation) in order to tell if a change to a hyperparameter is truly producing better results."
   ]
  },
  {
   "cell_type": "markdown",
   "metadata": {
    "colab": {},
    "colab_type": "code",
    "id": "szi6-IpuzaH1"
   },
   "source": [
    "## Import Fashion-MNIST dataset"
   ]
  },
  {
   "cell_type": "code",
   "execution_count": 100,
   "metadata": {},
   "outputs": [],
   "source": [
    "from tensorflow import keras\n",
    "from tensorflow.keras.datasets import fashion_mnist\n",
    "import numpy as np\n",
    "\n",
    "(x_train, y_train), (x_test, y_test_original) = fashion_mnist.load_data()\n",
    "y_test = y_test_original"
   ]
  },
  {
   "cell_type": "code",
   "execution_count": 101,
   "metadata": {},
   "outputs": [
    {
     "data": {
      "text/plain": [
       "(60000, 28, 28)"
      ]
     },
     "execution_count": 101,
     "metadata": {},
     "output_type": "execute_result"
    }
   ],
   "source": [
    "x_train.shape"
   ]
  },
  {
   "cell_type": "code",
   "execution_count": 102,
   "metadata": {},
   "outputs": [],
   "source": [
    "# input image dimensions\n",
    "img_rows, img_cols = 28, 28\n",
    "\n",
    "x_train = x_train.reshape(x_train.shape[0], img_rows * img_cols)\n",
    "x_test = x_test.reshape(x_test.shape[0], img_rows * img_cols)"
   ]
  },
  {
   "cell_type": "markdown",
   "metadata": {},
   "source": [
    "## Build Normalization Pipeline"
   ]
  },
  {
   "cell_type": "code",
   "execution_count": 103,
   "metadata": {},
   "outputs": [],
   "source": [
    "from sklearn.preprocessing import MinMaxScaler\n",
    "\n",
    "minmax = MinMaxScaler()\n",
    "\n",
    "mnist_pipe = Pipeline([\n",
    "    ('scaler', minmax)\n",
    "])"
   ]
  },
  {
   "cell_type": "code",
   "execution_count": 104,
   "metadata": {},
   "outputs": [],
   "source": [
    "# Transform features\n",
    "X_train = mnist_pipe.fit_transform(x_train)\n",
    "X_test = mnist_pipe.fit_transform(x_test)"
   ]
  },
  {
   "cell_type": "code",
   "execution_count": 105,
   "metadata": {},
   "outputs": [
    {
     "data": {
      "text/plain": [
       "((60000, 784), (10000, 784))"
      ]
     },
     "execution_count": 105,
     "metadata": {},
     "output_type": "execute_result"
    }
   ],
   "source": [
    "X_train.shape, X_test.shape"
   ]
  },
  {
   "cell_type": "code",
   "execution_count": 106,
   "metadata": {},
   "outputs": [
    {
     "data": {
      "text/plain": [
       "array([9, 0, 0, ..., 3, 0, 5], dtype=uint8)"
      ]
     },
     "execution_count": 106,
     "metadata": {},
     "output_type": "execute_result"
    }
   ],
   "source": [
    "y_train"
   ]
  },
  {
   "cell_type": "code",
   "execution_count": 107,
   "metadata": {},
   "outputs": [],
   "source": [
    "# store original y_train, y_test\n",
    "y_train_original = y_train\n",
    "y_teste_original = y_test"
   ]
  },
  {
   "cell_type": "code",
   "execution_count": 108,
   "metadata": {},
   "outputs": [],
   "source": [
    "# One-hot encode target\n",
    "from sklearn.preprocessing import OneHotEncoder\n",
    "\n",
    "target_encoder = OneHotEncoder(\n",
    "    categories='auto',\n",
    "    drop='first',\n",
    ")"
   ]
  },
  {
   "cell_type": "code",
   "execution_count": 109,
   "metadata": {},
   "outputs": [],
   "source": [
    "y_train = target_encoder.fit_transform(y_train.reshape(-1,1)).todense()\n",
    "y_test = target_encoder.transform(y_test.reshape(-1,1)).todense()"
   ]
  },
  {
   "cell_type": "code",
   "execution_count": 110,
   "metadata": {},
   "outputs": [
    {
     "data": {
      "text/plain": [
       "[array([0, 1, 2, 3, 4, 5, 6, 7, 8, 9], dtype=uint8)]"
      ]
     },
     "execution_count": 110,
     "metadata": {},
     "output_type": "execute_result"
    }
   ],
   "source": [
    "# Check categories\n",
    "target_encoder.categories_"
   ]
  },
  {
   "cell_type": "markdown",
   "metadata": {},
   "source": [
    "## Define Sequential Network"
   ]
  },
  {
   "cell_type": "code",
   "execution_count": 115,
   "metadata": {},
   "outputs": [
    {
     "name": "stdout",
     "output_type": "stream",
     "text": [
      "Model: \"sequential_7\"\n",
      "_________________________________________________________________\n",
      "Layer (type)                 Output Shape              Param #   \n",
      "=================================================================\n",
      "dense_24 (Dense)             (None, 784)               615440    \n",
      "_________________________________________________________________\n",
      "dense_25 (Dense)             (None, 100)               78500     \n",
      "_________________________________________________________________\n",
      "dense_26 (Dense)             (None, 100)               10100     \n",
      "_________________________________________________________________\n",
      "dense_27 (Dense)             (None, 100)               10100     \n",
      "_________________________________________________________________\n",
      "dense_28 (Dense)             (None, 9)                 909       \n",
      "=================================================================\n",
      "Total params: 715,049\n",
      "Trainable params: 715,049\n",
      "Non-trainable params: 0\n",
      "_________________________________________________________________\n"
     ]
    }
   ],
   "source": [
    "from tensorflow.keras.models import Sequential\n",
    "from tensorflow.keras.layers import Dense\n",
    "\n",
    "nn = Sequential()\n",
    "\n",
    "nn.add(Dense(784, input_dim=784))\n",
    "nn.add(Dense(100, activation='relu'))\n",
    "nn.add(Dense(100, activation='relu'))\n",
    "nn.add(Dense(100, activation='relu'))\n",
    "nn.add(Dense(9, activation='sigmoid'))\n",
    "\n",
    "nn.compile(loss='binary_crossentropy', optimizer='adam', metrics=['binary_accuracy'])\n",
    "\n",
    "nn.summary()\n"
   ]
  },
  {
   "cell_type": "code",
   "execution_count": 116,
   "metadata": {},
   "outputs": [
    {
     "name": "stdout",
     "output_type": "stream",
     "text": [
      "Train on 60000 samples\n",
      "Epoch 1/50\n",
      "60000/60000 - 5s - loss: 0.0895 - binary_accuracy: 0.9644\n",
      "Epoch 2/50\n",
      "60000/60000 - 5s - loss: 0.0680 - binary_accuracy: 0.9731\n",
      "Epoch 3/50\n",
      "60000/60000 - 5s - loss: 0.0631 - binary_accuracy: 0.9749\n",
      "Epoch 4/50\n",
      "60000/60000 - 5s - loss: 0.0600 - binary_accuracy: 0.9763\n",
      "Epoch 5/50\n",
      "60000/60000 - 5s - loss: 0.0564 - binary_accuracy: 0.9776\n",
      "Epoch 6/50\n",
      "60000/60000 - 5s - loss: 0.0550 - binary_accuracy: 0.9778\n",
      "Epoch 7/50\n",
      "60000/60000 - 5s - loss: 0.0527 - binary_accuracy: 0.9791\n",
      "Epoch 8/50\n",
      "60000/60000 - 5s - loss: 0.0514 - binary_accuracy: 0.9794\n",
      "Epoch 9/50\n",
      "60000/60000 - 5s - loss: 0.0503 - binary_accuracy: 0.9798\n",
      "Epoch 10/50\n",
      "60000/60000 - 5s - loss: 0.0493 - binary_accuracy: 0.9803\n",
      "Epoch 11/50\n",
      "60000/60000 - 5s - loss: 0.0484 - binary_accuracy: 0.9805\n",
      "Epoch 12/50\n",
      "60000/60000 - 5s - loss: 0.0474 - binary_accuracy: 0.9810\n",
      "Epoch 13/50\n",
      "60000/60000 - 5s - loss: 0.0459 - binary_accuracy: 0.9817\n",
      "Epoch 14/50\n",
      "60000/60000 - 5s - loss: 0.0454 - binary_accuracy: 0.9817\n",
      "Epoch 15/50\n",
      "60000/60000 - 5s - loss: 0.0450 - binary_accuracy: 0.9822\n",
      "Epoch 16/50\n",
      "60000/60000 - 5s - loss: 0.0435 - binary_accuracy: 0.9824\n",
      "Epoch 17/50\n",
      "60000/60000 - 5s - loss: 0.0429 - binary_accuracy: 0.9830\n",
      "Epoch 18/50\n",
      "60000/60000 - 5s - loss: 0.0427 - binary_accuracy: 0.9829\n",
      "Epoch 19/50\n",
      "60000/60000 - 5s - loss: 0.0419 - binary_accuracy: 0.9832\n",
      "Epoch 20/50\n",
      "60000/60000 - 5s - loss: 0.0415 - binary_accuracy: 0.9832\n",
      "Epoch 21/50\n",
      "60000/60000 - 5s - loss: 0.0408 - binary_accuracy: 0.9837\n",
      "Epoch 22/50\n",
      "60000/60000 - 5s - loss: 0.0411 - binary_accuracy: 0.9836\n",
      "Epoch 23/50\n",
      "60000/60000 - 5s - loss: 0.0397 - binary_accuracy: 0.9842\n",
      "Epoch 24/50\n",
      "60000/60000 - 5s - loss: 0.0402 - binary_accuracy: 0.9842\n",
      "Epoch 25/50\n",
      "60000/60000 - 5s - loss: 0.0389 - binary_accuracy: 0.9844\n",
      "Epoch 26/50\n",
      "60000/60000 - 5s - loss: 0.0382 - binary_accuracy: 0.9847\n",
      "Epoch 27/50\n",
      "60000/60000 - 5s - loss: 0.0382 - binary_accuracy: 0.9849\n",
      "Epoch 28/50\n",
      "60000/60000 - 5s - loss: 0.0384 - binary_accuracy: 0.9849\n",
      "Epoch 29/50\n",
      "60000/60000 - 5s - loss: 0.0374 - binary_accuracy: 0.9852\n",
      "Epoch 30/50\n",
      "60000/60000 - 5s - loss: 0.0367 - binary_accuracy: 0.9854\n",
      "Epoch 31/50\n",
      "60000/60000 - 5s - loss: 0.0367 - binary_accuracy: 0.9854\n",
      "Epoch 32/50\n",
      "60000/60000 - 5s - loss: 0.0362 - binary_accuracy: 0.9856\n",
      "Epoch 33/50\n",
      "60000/60000 - 5s - loss: 0.0371 - binary_accuracy: 0.9856\n",
      "Epoch 34/50\n",
      "60000/60000 - 5s - loss: 0.0362 - binary_accuracy: 0.9857\n",
      "Epoch 35/50\n",
      "60000/60000 - 5s - loss: 0.0355 - binary_accuracy: 0.9859\n",
      "Epoch 36/50\n",
      "60000/60000 - 5s - loss: 0.0352 - binary_accuracy: 0.9861\n",
      "Epoch 37/50\n",
      "60000/60000 - 5s - loss: 0.0366 - binary_accuracy: 0.9858\n",
      "Epoch 38/50\n",
      "60000/60000 - 5s - loss: 0.0357 - binary_accuracy: 0.9860\n",
      "Epoch 39/50\n",
      "60000/60000 - 5s - loss: 0.0345 - binary_accuracy: 0.9865\n",
      "Epoch 40/50\n",
      "60000/60000 - 5s - loss: 0.0358 - binary_accuracy: 0.9862\n",
      "Epoch 41/50\n",
      "60000/60000 - 5s - loss: 0.0346 - binary_accuracy: 0.9866\n",
      "Epoch 42/50\n",
      "60000/60000 - 5s - loss: 0.0334 - binary_accuracy: 0.9870\n",
      "Epoch 43/50\n",
      "60000/60000 - 5s - loss: 0.0338 - binary_accuracy: 0.9868\n",
      "Epoch 44/50\n",
      "60000/60000 - 5s - loss: 0.0339 - binary_accuracy: 0.9868\n",
      "Epoch 45/50\n",
      "60000/60000 - 5s - loss: 0.0323 - binary_accuracy: 0.9873\n",
      "Epoch 46/50\n",
      "60000/60000 - 5s - loss: 0.0338 - binary_accuracy: 0.9870\n",
      "Epoch 47/50\n",
      "60000/60000 - 5s - loss: 0.0343 - binary_accuracy: 0.9867\n",
      "Epoch 48/50\n",
      "60000/60000 - 5s - loss: 0.0327 - binary_accuracy: 0.9873\n",
      "Epoch 49/50\n",
      "60000/60000 - 5s - loss: 0.0341 - binary_accuracy: 0.9870\n",
      "Epoch 50/50\n",
      "60000/60000 - 5s - loss: 0.0326 - binary_accuracy: 0.9873\n"
     ]
    },
    {
     "data": {
      "text/plain": [
       "<tensorflow.python.keras.callbacks.History at 0x7f2c6e08f710>"
      ]
     },
     "execution_count": 116,
     "metadata": {},
     "output_type": "execute_result"
    }
   ],
   "source": [
    "nn.fit(X_train, y_train, epochs=50, verbose=2)"
   ]
  },
  {
   "cell_type": "markdown",
   "metadata": {},
   "source": [
    "## Generate predictions and recode so single digits"
   ]
  },
  {
   "cell_type": "code",
   "execution_count": 117,
   "metadata": {},
   "outputs": [
    {
     "data": {
      "text/plain": [
       "[0.08012885845899582, 0.9797]"
      ]
     },
     "execution_count": 117,
     "metadata": {},
     "output_type": "execute_result"
    }
   ],
   "source": [
    "# Check score on test set\n",
    "nn.evaluate(X_test, y_test, verbose=0)"
   ]
  },
  {
   "cell_type": "code",
   "execution_count": 118,
   "metadata": {},
   "outputs": [],
   "source": [
    "## Generate predictions\n",
    "predictions = nn.predict(X_test)"
   ]
  },
  {
   "cell_type": "code",
   "execution_count": 119,
   "metadata": {},
   "outputs": [],
   "source": [
    "# Manipulate to single digit based on column, returning 0 if none of the probabilities ar near 1\n",
    "df = pd.DataFrame(predictions)\n",
    "df.columns = range(1,10)"
   ]
  },
  {
   "cell_type": "code",
   "execution_count": 120,
   "metadata": {},
   "outputs": [],
   "source": [
    "# Transform probabilities into int_max\n",
    "df = pd.DataFrame(df.mul([1,2,3,4,5,6,7,8,9]).max(axis=1).round().astype('int'))"
   ]
  },
  {
   "cell_type": "code",
   "execution_count": 121,
   "metadata": {},
   "outputs": [
    {
     "data": {
      "text/html": [
       "<div>\n",
       "<style scoped>\n",
       "    .dataframe tbody tr th:only-of-type {\n",
       "        vertical-align: middle;\n",
       "    }\n",
       "\n",
       "    .dataframe tbody tr th {\n",
       "        vertical-align: top;\n",
       "    }\n",
       "\n",
       "    .dataframe thead th {\n",
       "        text-align: right;\n",
       "    }\n",
       "</style>\n",
       "<table border=\"1\" class=\"dataframe\">\n",
       "  <thead>\n",
       "    <tr style=\"text-align: right;\">\n",
       "      <th></th>\n",
       "      <th>y_pred</th>\n",
       "      <th>y_test</th>\n",
       "    </tr>\n",
       "  </thead>\n",
       "  <tbody>\n",
       "    <tr>\n",
       "      <td>0</td>\n",
       "      <td>9</td>\n",
       "      <td>9</td>\n",
       "    </tr>\n",
       "    <tr>\n",
       "      <td>1</td>\n",
       "      <td>2</td>\n",
       "      <td>2</td>\n",
       "    </tr>\n",
       "    <tr>\n",
       "      <td>2</td>\n",
       "      <td>1</td>\n",
       "      <td>1</td>\n",
       "    </tr>\n",
       "    <tr>\n",
       "      <td>3</td>\n",
       "      <td>1</td>\n",
       "      <td>1</td>\n",
       "    </tr>\n",
       "    <tr>\n",
       "      <td>4</td>\n",
       "      <td>6</td>\n",
       "      <td>6</td>\n",
       "    </tr>\n",
       "    <tr>\n",
       "      <td>5</td>\n",
       "      <td>1</td>\n",
       "      <td>1</td>\n",
       "    </tr>\n",
       "    <tr>\n",
       "      <td>6</td>\n",
       "      <td>4</td>\n",
       "      <td>4</td>\n",
       "    </tr>\n",
       "    <tr>\n",
       "      <td>7</td>\n",
       "      <td>6</td>\n",
       "      <td>6</td>\n",
       "    </tr>\n",
       "    <tr>\n",
       "      <td>8</td>\n",
       "      <td>5</td>\n",
       "      <td>5</td>\n",
       "    </tr>\n",
       "    <tr>\n",
       "      <td>9</td>\n",
       "      <td>7</td>\n",
       "      <td>7</td>\n",
       "    </tr>\n",
       "  </tbody>\n",
       "</table>\n",
       "</div>"
      ],
      "text/plain": [
       "   y_pred  y_test\n",
       "0       9       9\n",
       "1       2       2\n",
       "2       1       1\n",
       "3       1       1\n",
       "4       6       6\n",
       "5       1       1\n",
       "6       4       4\n",
       "7       6       6\n",
       "8       5       5\n",
       "9       7       7"
      ]
     },
     "execution_count": 121,
     "metadata": {},
     "output_type": "execute_result"
    }
   ],
   "source": [
    "# Label and append y_test\n",
    "df.columns = ['y_pred']\n",
    "df['y_test'] = y_test_original\n",
    "df.head(10)"
   ]
  },
  {
   "cell_type": "code",
   "execution_count": 122,
   "metadata": {},
   "outputs": [
    {
     "data": {
      "text/plain": [
       "(    y_pred  y_test\n",
       " 12       8       7\n",
       " 17       2       4\n",
       " 23       5       9\n",
       " 25       1       4\n",
       " 26       5       6,             y_pred       y_test\n",
       " count  2114.000000  2114.000000\n",
       " mean      3.182119     3.921949\n",
       " std       1.816849     2.713319\n",
       " min       0.000000     0.000000\n",
       " 25%       2.000000     2.000000\n",
       " 50%       3.000000     4.000000\n",
       " 75%       4.000000     6.000000\n",
       " max       9.000000     9.000000)"
      ]
     },
     "execution_count": 122,
     "metadata": {},
     "output_type": "execute_result"
    }
   ],
   "source": [
    "# Visualize where it went wrong\n",
    "errors = df[df.y_pred != df.y_test]\n",
    "errors.head(), errors.describe()"
   ]
  },
  {
   "cell_type": "code",
   "execution_count": 123,
   "metadata": {},
   "outputs": [
    {
     "name": "stdout",
     "output_type": "stream",
     "text": [
      "78.86\n"
     ]
    }
   ],
   "source": [
    "# Check Test Accuracy\n",
    "print((1 - errors.count().mean()/df.count().mean())*100)"
   ]
  },
  {
   "cell_type": "markdown",
   "metadata": {},
   "source": [
    "**Interesting** findings.  It appears as though the network is mistaking the digits enough, sucht that the true accuracy is closer to 79%.  The loss function needs to take the reduction to digit into account.  Another option would be to build a smaller network to transfer these learnings onto!"
   ]
  },
  {
   "cell_type": "markdown",
   "metadata": {},
   "source": [
    "## Transfer Learning"
   ]
  },
  {
   "cell_type": "code",
   "execution_count": 124,
   "metadata": {},
   "outputs": [
    {
     "name": "stdout",
     "output_type": "stream",
     "text": [
      "Model: \"sequential_8\"\n",
      "_________________________________________________________________\n",
      "Layer (type)                 Output Shape              Param #   \n",
      "=================================================================\n",
      "dense_29 (Dense)             (None, 9)                 90        \n",
      "_________________________________________________________________\n",
      "dense_30 (Dense)             (None, 2)                 20        \n",
      "_________________________________________________________________\n",
      "dense_31 (Dense)             (None, 1)                 3         \n",
      "=================================================================\n",
      "Total params: 113\n",
      "Trainable params: 113\n",
      "Non-trainable params: 0\n",
      "_________________________________________________________________\n"
     ]
    }
   ],
   "source": [
    "# Build another small network that looks at predictions from the first network and translates the raw form directly into digits\n",
    "\n",
    "nn2 = Sequential()\n",
    "\n",
    "nn2.add(Dense(9, input_dim=9))\n",
    "nn2.add(Dense(2, activation='relu'))\n",
    "nn2.add(Dense(1))\n",
    "\n",
    "nn2.compile(loss='huber_loss', optimizer='adam', metrics=['accuracy'])\n",
    "\n",
    "nn2.summary()\n"
   ]
  },
  {
   "cell_type": "code",
   "execution_count": 125,
   "metadata": {},
   "outputs": [
    {
     "name": "stdout",
     "output_type": "stream",
     "text": [
      "Train on 60000 samples\n",
      "Epoch 1/10\n",
      "60000/60000 - 5s - loss: 0.7385 - accuracy: 0.1051\n",
      "Epoch 2/10\n",
      "60000/60000 - 4s - loss: 0.1965 - accuracy: 0.1655\n",
      "Epoch 3/10\n",
      "60000/60000 - 4s - loss: 0.1942 - accuracy: 0.1701\n",
      "Epoch 4/10\n",
      "60000/60000 - 4s - loss: 0.1936 - accuracy: 0.1709\n",
      "Epoch 5/10\n",
      "60000/60000 - 4s - loss: 0.1933 - accuracy: 0.1710\n",
      "Epoch 6/10\n",
      "60000/60000 - 4s - loss: 0.1927 - accuracy: 0.1711\n",
      "Epoch 7/10\n",
      "60000/60000 - 4s - loss: 0.1922 - accuracy: 0.1716\n",
      "Epoch 8/10\n",
      "60000/60000 - 4s - loss: 0.1918 - accuracy: 0.1716\n",
      "Epoch 9/10\n",
      "60000/60000 - 4s - loss: 0.1913 - accuracy: 0.1714\n",
      "Epoch 10/10\n",
      "60000/60000 - 4s - loss: 0.1906 - accuracy: 0.1718\n"
     ]
    },
    {
     "data": {
      "text/plain": [
       "<tensorflow.python.keras.callbacks.History at 0x7f2c60e395c0>"
      ]
     },
     "execution_count": 125,
     "metadata": {},
     "output_type": "execute_result"
    }
   ],
   "source": [
    "nn2.fit(nn.predict(X_train), y_train_original, epochs=10, verbose=2)"
   ]
  },
  {
   "cell_type": "code",
   "execution_count": 126,
   "metadata": {},
   "outputs": [],
   "source": [
    "# Finally, re-run evaluation\n",
    "predictions2 = nn2.predict(nn.predict(X_test), verbose=0)"
   ]
  },
  {
   "cell_type": "code",
   "execution_count": 127,
   "metadata": {},
   "outputs": [],
   "source": [
    "# some labeling\n",
    "df2 = pd.DataFrame(predictions2)\n",
    "df2.columns = ['y_pred']"
   ]
  },
  {
   "cell_type": "code",
   "execution_count": 128,
   "metadata": {},
   "outputs": [],
   "source": [
    "# casting the predictions as int and adding y_test\n",
    "df2 = pd.DataFrame(df2.y_pred.round().astype('int'))\n",
    "df2['y_test'] = y_test_original"
   ]
  },
  {
   "cell_type": "code",
   "execution_count": 129,
   "metadata": {},
   "outputs": [
    {
     "data": {
      "text/plain": [
       "(    y_pred  y_test\n",
       " 12       8       7\n",
       " 17       2       4\n",
       " 23       5       9\n",
       " 25       3       4\n",
       " 27       1       0,             y_pred       y_test\n",
       " count  1838.000000  1838.000000\n",
       " mean      3.860718     3.754625\n",
       " std       1.967391     2.639297\n",
       " min       0.000000     0.000000\n",
       " 25%       3.000000     2.000000\n",
       " 50%       4.000000     4.000000\n",
       " 75%       5.000000     6.000000\n",
       " max      16.000000     9.000000)"
      ]
     },
     "execution_count": 129,
     "metadata": {},
     "output_type": "execute_result"
    }
   ],
   "source": [
    "# Create erors df\n",
    "errors2 = df2[df2.y_pred != df2.y_test]\n",
    "errors2.head(), errors2.describe()"
   ]
  },
  {
   "cell_type": "code",
   "execution_count": 130,
   "metadata": {},
   "outputs": [
    {
     "name": "stdout",
     "output_type": "stream",
     "text": [
      "81.62\n"
     ]
    }
   ],
   "source": [
    "# Check Test Accuracy\n",
    "print((1 - errors2.count().mean()/df2.count().mean())*100)"
   ]
  },
  {
   "cell_type": "markdown",
   "metadata": {},
   "source": [
    "**An improvent** of 0.6% on a small layer is seen.  Further optimization might yield better results.  Likely a different network layout besides simple dense representations is required."
   ]
  },
  {
   "cell_type": "markdown",
   "metadata": {
    "colab_type": "text",
    "id": "zv_3xNMjzdLI"
   },
   "source": [
    "## Stretch Goals:\n",
    "\n",
    "- Use Hyperparameter Tuning to make the accuracy of your models as high as possible. (error as low as possible)\n",
    "- Use Cross Validation techniques to get more consistent results with your model.\n",
    "- Use GridSearchCV to try different combinations of hyperparameters. \n",
    "- Start looking into other types of Keras layers for CNNs and RNNs maybe try and build a CNN model for fashion-MNIST to see how the results compare."
   ]
  }
 ],
 "metadata": {
  "colab": {
   "name": "LS_DS_433_Keras_Assignment.ipynb",
   "provenance": [],
   "version": "0.3.2"
  },
  "kernelspec": {
   "display_name": "Python 3",
   "language": "python",
   "name": "python3"
  },
  "language_info": {
   "codemirror_mode": {
    "name": "ipython",
    "version": 3
   },
   "file_extension": ".py",
   "mimetype": "text/x-python",
   "name": "python",
   "nbconvert_exporter": "python",
   "pygments_lexer": "ipython3",
   "version": "3.6.8"
  }
 },
 "nbformat": 4,
 "nbformat_minor": 4
}
